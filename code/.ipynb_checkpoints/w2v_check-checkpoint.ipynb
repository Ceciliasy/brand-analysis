{
 "cells": [
  {
   "cell_type": "code",
   "execution_count": 6,
   "metadata": {},
   "outputs": [],
   "source": [
    "from gensim.scripts.glove2word2vec import glove2word2vec\n",
    "import gensim"
   ]
  },
  {
   "cell_type": "code",
   "execution_count": 4,
   "metadata": {},
   "outputs": [
    {
     "data": {
      "text/plain": [
       "(2145512, 300)"
      ]
     },
     "execution_count": 4,
     "metadata": {},
     "output_type": "execute_result"
    }
   ],
   "source": [
    "input_dir = '/mnt/HDD/embedding/'\n",
    "output_dir = '/mnt/HDD/w2c/'\n",
    "file = \"twitter_vectors_2008.txt\"\n",
    "glove2word2vec(input_dir+file, output_dir+file)"
   ]
  },
  {
   "cell_type": "code",
   "execution_count": 7,
   "metadata": {},
   "outputs": [],
   "source": [
    "file_name = \"/mnt/HDD/w2c/twitter_vectors_2008.txt\"\n",
    "try:\n",
    "    w2v=gensim.models.KeyedVectors.load_word2vec_format(file_name,binary=False,unicode_errors='ignore')\n",
    "except:\n",
    "    w2v=gensim.models.KeyedVectors.load_word2vec_format(file_name,binary=True,unicode_errors='ignore')"
   ]
  },
  {
   "cell_type": "code",
   "execution_count": null,
   "metadata": {},
   "outputs": [],
   "source": [
    "def similarity(word1,word2,w2v):\n",
    "    try:\n",
    "        print(word1,word2,\":\",w2v.similarity(word1,word2))\n",
    "    except Exception as e:\n",
    "        print(str(e))"
   ]
  },
  {
   "cell_type": "code",
   "execution_count": 14,
   "metadata": {},
   "outputs": [
    {
     "name": "stdout",
     "output_type": "stream",
     "text": [
      "china China : 0.4149834725209954\n"
     ]
    }
   ],
   "source": [
    "word1 = \"china\"\n",
    "word2 = \"China\"\n",
    "similarity(word1,word2,w2v)"
   ]
  },
  {
   "cell_type": "code",
   "execution_count": 22,
   "metadata": {
    "scrolled": true
   },
   "outputs": [],
   "source": [
    "result = w2v.accuracy(\"/home/sonata/Downloads/source-archive/word2vec/trunk/questions-words.txt\")"
   ]
  },
  {
   "cell_type": "raw",
   "metadata": {},
   "source": []
  }
 ],
 "metadata": {
  "kernelspec": {
   "display_name": "Python 3",
   "language": "python",
   "name": "python3"
  },
  "language_info": {
   "codemirror_mode": {
    "name": "ipython",
    "version": 3
   },
   "file_extension": ".py",
   "mimetype": "text/x-python",
   "name": "python",
   "nbconvert_exporter": "python",
   "pygments_lexer": "ipython3",
   "version": "3.7.0"
  }
 },
 "nbformat": 4,
 "nbformat_minor": 2
}
