{
 "cells": [
  {
   "cell_type": "code",
   "execution_count": 2,
   "metadata": {},
   "outputs": [],
   "source": [
    "import json\n",
    "import os\n"
   ]
  },
  {
   "cell_type": "code",
   "execution_count": 6,
   "metadata": {},
   "outputs": [],
   "source": [
    "#!year=20c08\n",
    "#!mkdir $year\n",
    "#! gzip -d /home/sonata/Downloads/tweets.2008-09-10.gz"
   ]
  },
  {
   "cell_type": "markdown",
   "metadata": {},
   "source": [
    "## error storage"
   ]
  },
  {
   "cell_type": "code",
   "execution_count": 28,
   "metadata": {},
   "outputs": [],
   "source": [
    "contents = []\n",
    "error= []\n",
    "error_file =\"../data/twitter_s3/2009/tweets.2009-06-02\"\n",
    "with open(error_file,'r') as f:\n",
    "    for line in f:\n",
    "        #print(line)\n",
    "        try:\n",
    "            line1 = json.loads(line)\n",
    "        except:\n",
    "            #import ipdb;ipdb.set_trace()\n",
    "            error.append(line)\n",
    "            continue\n",
    "        if('text' in line1.keys()):\n",
    "            #print(line)\n",
    "            contents.append(line1['text'])\n"
   ]
  },
  {
   "cell_type": "code",
   "execution_count": 29,
   "metadata": {},
   "outputs": [
    {
     "data": {
      "text/plain": [
       "505083"
      ]
     },
     "execution_count": 29,
     "metadata": {},
     "output_type": "execute_result"
    }
   ],
   "source": [
    "len(contents)"
   ]
  },
  {
   "cell_type": "code",
   "execution_count": 30,
   "metadata": {},
   "outputs": [
    {
     "data": {
      "text/plain": [
       "24"
      ]
     },
     "execution_count": 30,
     "metadata": {},
     "output_type": "execute_result"
    }
   ],
   "source": [
    "len(error)"
   ]
  },
  {
   "cell_type": "code",
   "execution_count": 31,
   "metadata": {},
   "outputs": [],
   "source": [
    "with open(error_file+'.txt','w') as f:\n",
    "    for item in contents:\n",
    "        if(item):\n",
    "            f.write(item.encode('utf-8').strip()+\"\\n\")\n",
    "with open(\"../data/twitter_s3/2009/error\",'a') as f:\n",
    "    for item in error:\n",
    "        if(item):\n",
    "            f.write(item.encode('utf-8').strip()+\"\\n\")\n"
   ]
  },
  {
   "cell_type": "code",
   "execution_count": 33,
   "metadata": {},
   "outputs": [],
   "source": [
    "!rm $error_file"
   ]
  },
  {
   "cell_type": "markdown",
   "metadata": {},
   "source": [
    "# 2008"
   ]
  },
  {
   "cell_type": "code",
   "execution_count": null,
   "metadata": {},
   "outputs": [],
   "source": [
    "year = 2008\n",
    "dir_loc = '/home/sonata/Downloads/Embedding/data/twitter_s3/'+str(year)\n",
    "file_list = []\n",
    "contents = []\n",
    "#for file in os.listdir(dir_loc):\n",
    "#    if(file.startswith(\"tweets.\"+str(year))):\n",
    "#        file_list.append(file)\n",
    "\n",
    "for file_name in os.listdir(dir_loc):\n",
    "    with open(dir_loc+'/'+file_name,'r') as f:\n",
    "        for line in f:\n",
    "            contents.append(json.loads(line))\n",
    "    print(file_name,len(contents))\n",
    "    #print(len(contents))\n",
    "    with open(dir_loc+'/'+file_name,'w') as fw:\n",
    "    #with open(\"../data/twitter_s3/tweets_\"+str(year)+\".txt\",'w') as f:\n",
    "        for item in contents:\n",
    "            if('text' in item.keys()):\n",
    "                fw.write(item['text'].encode('utf-8').strip()+\"\\n\")    \n",
    "    os.rename(dir_loc+'/'+file_name,dir_loc+'/'+file_name+'.txt')"
   ]
  },
  {
   "cell_type": "code",
   "execution_count": 24,
   "metadata": {},
   "outputs": [
    {
     "name": "stdout",
     "output_type": "stream",
     "text": [
      "tweets.2008-09-20\n",
      "('tweets.2008-09-20', 521685)\n",
      "tweets.2008-09-21\n",
      "('tweets.2008-09-21', 468224)\n",
      "tweets.2008-09-22\n",
      "('tweets.2008-09-22', 485760)\n",
      "tweets.2008-09-23\n",
      "('tweets.2008-09-23', 502518)\n",
      "tweets.2008-09-24\n",
      "('tweets.2008-09-24', 506031)\n",
      "tweets.2008-09-25\n",
      "('tweets.2008-09-25', 512770)\n",
      "tweets.2008-09-26\n",
      "('tweets.2008-09-26', 472130)\n",
      "tweets.2008-09-27\n",
      "('tweets.2008-09-27', 459154)\n",
      "tweets.2008-09-28\n",
      "('tweets.2008-09-28', 465657)\n",
      "tweets.2008-09-29\n",
      "('tweets.2008-09-29', 504953)\n",
      "tweets.2008-09-30\n",
      "('tweets.2008-09-30', 479148)\n",
      "tweets.2008-10-01\n",
      "('tweets.2008-10-01', 499028)\n",
      "tweets.2008-10-02\n",
      "('tweets.2008-10-02', 494857)\n",
      "tweets.2008-10-03\n",
      "('tweets.2008-10-03', 492357)\n",
      "tweets.2008-10-04\n",
      "('tweets.2008-10-04', 458732)\n",
      "tweets.2008-10-05\n",
      "('tweets.2008-10-05', 463959)\n",
      "tweets.2008-10-06\n",
      "('tweets.2008-10-06', 471374)\n",
      "tweets.2008-10-08\n",
      "('tweets.2008-10-08', 318664)\n",
      "tweets.2008-10-09\n",
      "('tweets.2008-10-09', 322627)\n",
      "tweets.2008-10-10\n",
      "('tweets.2008-10-10', 321131)\n",
      "tweets.2008-10-11\n",
      "('tweets.2008-10-11', 343949)\n",
      "tweets.2008-10-12\n",
      "('tweets.2008-10-12', 348854)\n",
      "tweets.2008-10-13\n",
      "('tweets.2008-10-13', 367663)\n",
      "tweets.2008-10-14\n",
      "('tweets.2008-10-14', 390814)\n",
      "tweets.2008-10-15\n",
      "('tweets.2008-10-15', 424022)\n",
      "tweets.2008-10-17\n",
      "('tweets.2008-10-17', 737316)\n",
      "tweets.2008-10-18\n",
      "('tweets.2008-10-18', 632801)\n",
      "tweets.2008-10-19\n",
      "('tweets.2008-10-19', 624107)\n",
      "tweets.2008-10-20\n",
      "('tweets.2008-10-20', 738649)\n",
      "tweets.2008-10-21\n",
      "('tweets.2008-10-21', 712428)\n",
      "tweets.2008-10-22\n",
      "('tweets.2008-10-22', 671933)\n",
      "tweets.2008-10-23\n",
      "('tweets.2008-10-23', 678330)\n",
      "tweets.2008-10-24\n",
      "('tweets.2008-10-24', 770952)\n",
      "tweets.2008-10-25\n",
      "('tweets.2008-10-25', 624186)\n",
      "tweets.2008-10-26\n",
      "('tweets.2008-10-26', 621880)\n",
      "tweets.2008-10-28\n",
      "('tweets.2008-10-28', 821980)\n",
      "tweets.2008-10-29\n",
      "('tweets.2008-10-29', 835450)\n",
      "tweets.2008-10-30\n",
      "('tweets.2008-10-30', 839930)\n",
      "tweets.2008-10-31\n",
      "('tweets.2008-10-31', 831983)\n",
      "tweets.2008-11-01\n",
      "('tweets.2008-11-01', 776042)\n",
      "tweets.2008-11-02\n",
      "('tweets.2008-11-02', 749937)\n",
      "tweets.2008-11-03\n",
      "('tweets.2008-11-03', 836503)\n",
      "tweets.2008-11-04\n",
      "('tweets.2008-11-04', 853073)\n",
      "tweets.2008-11-06\n",
      "('tweets.2008-11-06', 838124)\n",
      "tweets.2008-11-09\n",
      "('tweets.2008-11-09', 724968)\n",
      "tweets.2008-11-10\n",
      "('tweets.2008-11-10', 799817)\n",
      "tweets.2008-11-11\n",
      "('tweets.2008-11-11', 755666)\n",
      "tweets.2008-11-12\n",
      "('tweets.2008-11-12', 308540)\n",
      "tweets.2008-11-13\n",
      "('tweets.2008-11-13', 731857)\n",
      "tweets.2008-11-14\n",
      "('tweets.2008-11-14', 817443)\n",
      "tweets.2008-11-15\n",
      "('tweets.2008-11-15', 717289)\n",
      "tweets.2008-11-16\n",
      "('tweets.2008-11-16', 636835)\n",
      "tweets.2008-11-17\n",
      "('tweets.2008-11-17', 756084)\n",
      "tweets.2008-11-18\n",
      "('tweets.2008-11-18', 657413)\n",
      "tweets.2008-11-19\n",
      "('tweets.2008-11-19', 761214)\n",
      "tweets.2008-11-20\n",
      "('tweets.2008-11-20', 804114)\n",
      "tweets.2008-11-21\n",
      "('tweets.2008-11-21', 830325)\n",
      "tweets.2008-11-22\n",
      "('tweets.2008-11-22', 740320)\n",
      "tweets.2008-11-23\n",
      "('tweets.2008-11-23', 813183)\n",
      "tweets.2008-11-24\n",
      "('tweets.2008-11-24', 843812)\n",
      "tweets.2008-11-25\n",
      "('tweets.2008-11-25', 846604)\n",
      "tweets.2008-11-26\n",
      "('tweets.2008-11-26', 768824)\n",
      "tweets.2008-11-27\n",
      "('tweets.2008-11-27', 859439)\n",
      "tweets.2008-11-28\n",
      "('tweets.2008-11-28', 857890)\n",
      "tweets.2008-11-29\n",
      "('tweets.2008-11-29', 752578)\n",
      "tweets.2008-11-30\n",
      "('tweets.2008-11-30', 775729)\n",
      "tweets.2008-12-01\n",
      "('tweets.2008-12-01', 855704)\n",
      "tweets.2008-12-02\n",
      "('tweets.2008-12-02', 817833)\n",
      "tweets.2008-12-03\n",
      "('tweets.2008-12-03', 792140)\n",
      "tweets.2008-12-04\n",
      "('tweets.2008-12-04', 818085)\n",
      "tweets.2008-12-05\n",
      "('tweets.2008-12-05', 794647)\n",
      "tweets.2008-12-06\n",
      "('tweets.2008-12-06', 800577)\n",
      "tweets.2008-12-07\n",
      "('tweets.2008-12-07', 705939)\n",
      "tweets.2008-12-08\n",
      "('tweets.2008-12-08', 804641)\n",
      "tweets.2008-12-09\n",
      "('tweets.2008-12-09', 836668)\n",
      "tweets.2008-12-10\n",
      "('tweets.2008-12-10', 826298)\n",
      "tweets.2008-12-11\n",
      "('tweets.2008-12-11', 808761)\n",
      "tweets.2008-12-12\n",
      "('tweets.2008-12-12', 815008)\n",
      "tweets.2008-12-13\n",
      "('tweets.2008-12-13', 750149)\n",
      "tweets.2008-12-14\n",
      "('tweets.2008-12-14', 683067)\n",
      "tweets.2008-12-15\n",
      "('tweets.2008-12-15', 713573)\n",
      "tweets.2008-12-16\n",
      "('tweets.2008-12-16', 717849)\n",
      "tweets.2008-12-17\n",
      "('tweets.2008-12-17', 697035)\n",
      "tweets.2008-12-20\n",
      "('tweets.2008-12-20', 700828)\n",
      "tweets.2008-12-21\n",
      "('tweets.2008-12-21', 711066)\n",
      "tweets.2008-12-22\n",
      "('tweets.2008-12-22', 729705)\n",
      "tweets.2008-12-23\n",
      "('tweets.2008-12-23', 729862)\n",
      "tweets.2008-12-24\n",
      "('tweets.2008-12-24', 736004)\n",
      "tweets.2008-12-25\n",
      "('tweets.2008-12-25', 767659)\n",
      "tweets.2008-12-26\n",
      "('tweets.2008-12-26', 645445)\n",
      "tweets.2008-12-27\n",
      "('tweets.2008-12-27', 639422)\n",
      "tweets.2008-12-28\n",
      "('tweets.2008-12-28', 641930)\n",
      "tweets.2008-12-30\n",
      "('tweets.2008-12-30', 653475)\n",
      "tweets.2008-12-31\n",
      "('tweets.2008-12-31', 659256)\n"
     ]
    }
   ],
   "source": [
    "year = 2008\n",
    "dir_loc = '/home/sonata/Downloads/Embedding/data/twitter_s3/'+str(year)\n",
    "file_list = []\n",
    "\n",
    "#for file in os.listdir(dir_loc):\n",
    "#    if(file.startswith(\"tweets.\"+str(year))):\n",
    "#        file_list.append(file)\n",
    "for file_name in sorted(os.listdir(dir_loc)):\n",
    "    if(file_name.startswith(\"tweets\") and not file_name.endswith(\".txt\")):\n",
    "        contents = []\n",
    "        print(file_name)\n",
    "        with open(dir_loc+'/'+file_name,'r') as f:\n",
    "            for line in f:\n",
    "                contents.append(json.loads(line))\n",
    "        print(file_name,len(contents))\n",
    "        with open(dir_loc+'/'+file_name,'w') as fw:\n",
    "        #with open(\"../data/twitter_s3/tweets_\"+str(year)+\".txt\",'w') as f:\n",
    "            for item in contents:\n",
    "                if('text' in item.keys() and item['text']):\n",
    "                    fw.write(item['text'].encode('utf-8').strip()+\"\\n\")    \n",
    "        os.rename(dir_loc+'/'+file_name,dir_loc+'/'+file_name+'.txt')"
   ]
  },
  {
   "cell_type": "code",
   "execution_count": 23,
   "metadata": {},
   "outputs": [],
   "source": [
    "with open(dir_loc+'/'+file_name,'w') as fw:\n",
    "        #with open(\"../data/twitter_s3/tweets_\"+str(year)+\".txt\",'w') as f:\n",
    "    for item in contents:\n",
    "        if('text' in item.keys() and item['text']):\n",
    "            fwc.write(item['text'].encode('utf-8').strip()+\"\\n\")    \n",
    "os.rename(dir_loc+'/'+file_name,dir_loc+'/'+file_name+'.txt')"
   ]
  },
  {
   "cell_type": "markdown",
   "metadata": {},
   "source": [
    "# 2009"
   ]
  },
  {
   "cell_type": "code",
   "execution_count": 3,
   "metadata": {
    "scrolled": true
   },
   "outputs": [
    {
     "name": "stdout",
     "output_type": "stream",
     "text": [
      "tweets.2009-11-22\n",
      "('tweets.2009-11-22', 1000000)\n",
      "tweets.2009-11-23\n",
      "('tweets.2009-11-23', 1000000)\n",
      "tweets.2009-11-24\n",
      "('tweets.2009-11-24', 1000000)\n",
      "tweets.2009-11-25\n",
      "('tweets.2009-11-25', 1000000)\n",
      "tweets.2009-11-26\n",
      "('tweets.2009-11-26', 1000000)\n",
      "tweets.2009-11-27\n",
      "('tweets.2009-11-27', 1000000)\n",
      "tweets.2009-11-28\n",
      "('tweets.2009-11-28', 1000000)\n",
      "tweets.2009-11-29\n",
      "('tweets.2009-11-29', 1000000)\n",
      "tweets.2009-11-30\n",
      "('tweets.2009-11-30', 1000000)\n",
      "tweets.2009-12-01\n",
      "('tweets.2009-12-01', 1000000)\n",
      "tweets.2009-12-02\n",
      "('tweets.2009-12-02', 1000000)\n",
      "tweets.2009-12-03\n",
      "('tweets.2009-12-03', 1000000)\n",
      "tweets.2009-12-04\n",
      "('tweets.2009-12-04', 1000000)\n",
      "tweets.2009-12-05\n",
      "('tweets.2009-12-05', 1000000)\n",
      "tweets.2009-12-06\n",
      "('tweets.2009-12-06', 1000000)\n",
      "tweets.2009-12-07\n",
      "('tweets.2009-12-07', 1000000)\n",
      "tweets.2009-12-08\n",
      "('tweets.2009-12-08', 1000000)\n",
      "tweets.2009-12-09\n",
      "('tweets.2009-12-09', 1000000)\n",
      "tweets.2009-12-10\n",
      "('tweets.2009-12-10', 1000000)\n",
      "tweets.2009-12-11\n",
      "('tweets.2009-12-11', 1000000)\n",
      "tweets.2009-12-12\n",
      "('tweets.2009-12-12', 1000000)\n",
      "tweets.2009-12-13\n",
      "('tweets.2009-12-13', 1000000)\n",
      "tweets.2009-12-14\n",
      "('tweets.2009-12-14', 1000000)\n",
      "tweets.2009-12-15\n",
      "('tweets.2009-12-15', 1000000)\n",
      "tweets.2009-12-16\n",
      "('tweets.2009-12-16', 1000000)\n",
      "tweets.2009-12-17\n",
      "('tweets.2009-12-17', 1000000)\n",
      "tweets.2009-12-18\n",
      "('tweets.2009-12-18', 1000000)\n",
      "tweets.2009-12-19\n",
      "('tweets.2009-12-19', 241044)\n",
      "tweets.2009-12-20\n",
      "('tweets.2009-12-20', 0)\n",
      "tweets.2009-12-21\n",
      "('tweets.2009-12-21', 808071)\n",
      "tweets.2009-12-22\n",
      "('tweets.2009-12-22', 1000000)\n",
      "tweets.2009-12-23\n",
      "('tweets.2009-12-23', 1000000)\n",
      "tweets.2009-12-24\n",
      "('tweets.2009-12-24', 1000000)\n",
      "tweets.2009-12-25\n",
      "('tweets.2009-12-25', 1000000)\n",
      "tweets.2009-12-26\n",
      "('tweets.2009-12-26', 1000000)\n",
      "tweets.2009-12-27\n",
      "('tweets.2009-12-27', 1000000)\n",
      "tweets.2009-12-28\n",
      "('tweets.2009-12-28', 1000000)\n",
      "tweets.2009-12-29\n",
      "('tweets.2009-12-29', 1000000)\n",
      "tweets.2009-12-30\n",
      "('tweets.2009-12-30', 1000000)\n",
      "tweets.2009-12-31\n",
      "('tweets.2009-12-31', 1000000)\n"
     ]
    }
   ],
   "source": [
    "year = 2009\n",
    "dir_loc = '/home/sonata/Downloads/Embedding/data/twitter_s3/'+str(year)\n",
    "file_list = []\n",
    "\n",
    "#for file in os.listdir(dir_loc):\n",
    "#    if(file.startswith(\"tweets.\"+str(year))):\n",
    "#        file_list.append(file)\n",
    "for file_name in sorted(os.listdir(dir_loc)):\n",
    "    if(file_name.startswith(\"tweets\") and not file_name.endswith(\".txt\")):\n",
    "        contents = []\n",
    "        print(file_name)\n",
    "        with open(dir_loc+'/'+file_name,'r') as f:\n",
    "            for line in f:\n",
    "                contents.append(json.loads(line))\n",
    "        print(file_name,len(contents))\n",
    "        with open(dir_loc+'/'+file_name,'w') as fw:\n",
    "        #with open(\"../data/twitter_s3/tweets_\"+str(year)+\".txt\",'w') as f:\n",
    "            for item in contents:\n",
    "                if('text' in item.keys() and item['text']):\n",
    "                    fw.write(item['text'].encode('utf-8').strip()+\"\\n\")    \n",
    "        os.rename(dir_loc+'/'+file_name,dir_loc+'/'+file_name+'.txt')"
   ]
  },
  {
   "cell_type": "markdown",
   "metadata": {},
   "source": [
    "#  2010"
   ]
  },
  {
   "cell_type": "code",
   "execution_count": null,
   "metadata": {
    "scrolled": true
   },
   "outputs": [
    {
     "name": "stdout",
     "output_type": "stream",
     "text": [
      "tweets.2011-03-16\n",
      "('tweets.2011-03-16', 950814, 0)\n",
      "tweets.2011-03-17\n",
      "('tweets.2011-03-17', 962352, 0)\n",
      "tweets.2011-03-18\n",
      "('tweets.2011-03-18', 963193, 1)\n",
      "tweets.2011-03-19\n",
      "('tweets.2011-03-19', 961908, 2)\n",
      "tweets.2011-03-20\n",
      "('tweets.2011-03-20', 961204, 0)\n",
      "tweets.2011-03-21\n",
      "('tweets.2011-03-21', 964073, 0)\n",
      "tweets.2011-03-22\n",
      "('tweets.2011-03-22', 962740, 0)\n",
      "tweets.2011-03-23\n",
      "('tweets.2011-03-23', 963701, 0)\n",
      "tweets.2011-03-24\n",
      "('tweets.2011-03-24', 965950, 0)\n",
      "tweets.2011-03-25\n",
      "('tweets.2011-03-25', 966503, 1)\n",
      "tweets.2011-03-26\n",
      "('tweets.2011-03-26', 962950, 0)\n",
      "tweets.2011-03-27\n",
      "('tweets.2011-03-27', 962315, 0)\n",
      "tweets.2011-03-28\n",
      "('tweets.2011-03-28', 963905, 0)\n",
      "tweets.2011-03-29\n",
      "('tweets.2011-03-29', 965011, 1)\n",
      "tweets.2011-03-30\n",
      "('tweets.2011-03-30', 965101, 0)\n",
      "tweets.2011-03-31\n",
      "('tweets.2011-03-31', 964494, 0)\n",
      "tweets.2011-04-01\n",
      "('tweets.2011-04-01', 965790, 2)\n",
      "tweets.2011-04-02\n",
      "('tweets.2011-04-02', 962159, 1)\n",
      "tweets.2011-04-03\n",
      "('tweets.2011-04-03', 961950, 0)\n",
      "tweets.2011-04-04\n",
      "('tweets.2011-04-04', 961674, 0)\n",
      "tweets.2011-04-05\n",
      "('tweets.2011-04-05', 964265, 2)\n",
      "tweets.2011-04-06\n",
      "('tweets.2011-04-06', 965764, 0)\n",
      "tweets.2011-04-07\n",
      "('tweets.2011-04-07', 963649, 1)\n",
      "tweets.2011-04-08\n",
      "('tweets.2011-04-08', 964266, 0)\n",
      "tweets.2011-04-09\n",
      "('tweets.2011-04-09', 963960, 1)\n",
      "tweets.2011-04-10\n",
      "('tweets.2011-04-10', 961393, 0)\n",
      "tweets.2011-04-11\n",
      "('tweets.2011-04-11', 963676, 0)\n",
      "tweets.2011-04-12\n",
      "('tweets.2011-04-12', 962159, 1)\n",
      "tweets.2011-04-13\n"
     ]
    }
   ],
   "source": [
    "year = 2011\n",
    "dir_loc = '/home/sonata/Downloads/Embedding/data/twitter_s3/'+str(year)\n",
    "file_list = []\n",
    "\n",
    "#for file in os.listdir(dir_loc):\n",
    "#    if(file.startswith(\"tweets.\"+str(year))):\n",
    "#        file_list.append(file)\n",
    "for file_name in sorted(os.listdir(dir_loc)):\n",
    "    if(file_name.startswith(\"tweets\") and not file_name.endswith(\".txt\")):\n",
    "        contents = []\n",
    "        error = []\n",
    "        print(file_name)\n",
    "        with open(dir_loc+'/'+file_name,'r') as f:\n",
    "            for line in f:\n",
    "                try:\n",
    "                    line = json.loads(line)\n",
    "                    if('text' in line.keys()):\n",
    "                        contents.append(line['text'])\n",
    "                except:\n",
    "                    error.append(line)\n",
    "                    continue\n",
    "        print(file_name,len(contents),len(error))\n",
    "        with open(dir_loc+'/'+file_name,'w') as fw:\n",
    "        #with open(\"../data/twitter_s3/tweets_\"+str(year)+\".ctxt\",'w') as f:\n",
    "            for item in contents:\n",
    "                if(item):\n",
    "                    fw.write(item.encode('utf-8').strip()+\"\\n\")    \n",
    "        os.rename(dir_loc+'/'+file_name,dir_loc+'/'+file_name+'.txt')\n",
    "        with open(\"../data/twitter_s3/\"+str(year)+\"/error\",'a') as f:\n",
    "            for item in error:\n",
    "                if(item):\n",
    "                    f.write(item.encode('utf-8').strip()+\"\\n\")"
   ]
  },
  {
   "cell_type": "code",
   "execution_count": 23,
   "metadata": {},
   "outputs": [],
   "source": [
    "with open(dir_loc+'/'+file_name,'w') as fw:\n",
    "        #with open(\"../data/twitter_s3/tweets_\"+str(year)+\".ctxt\",'w') as f:\n",
    "    for item in contents:\n",
    "        if(item):\n",
    "            fw.write(item.encode('utf-8').strip()+\"\\n\")    \n",
    "os.rename(dir_loc+'/'+file_name,dir_loc+'/'+file_name+'.txt')\n",
    "with open(\"../data/twitter_s3/\"+str(year)+\"/error\",'a') as f:\n",
    "    for item in error:\n",
    "        if(item):\n",
    "            f.write(item.encode('utf-8').strip()+\"\\n\")"
   ]
  },
  {
   "cell_type": "code",
   "execution_count": 20,
   "metadata": {},
   "outputs": [],
   "source": [
    "\n",
    "contents = []\n",
    "with open('/home/sonata/Downloads/Embedding/data/twitter_s3/2010/tweets.2010-12-23','r') as f:\n",
    "    for line in f:\n",
    "        try:\n",
    "            line = json.loads(line)\n",
    "            if('text' in line.keys()):\n",
    "                contents.append(line['text'])\n",
    "        except:\n",
    "            error.append(line)\n",
    "            continue\n",
    "            \n",
    "with open('/home/sonata/Downloads/Embedding/data/twitter_s3/2010/tweets.2010-12-23.txt','w') as fw:\n",
    "            #with open(\"../data/twitter_s3/tweets_\"+str(year)+\".ctxt\",'w') as f:\n",
    "    for item in contents:\n",
    "        if(item):\n",
    "            fw.write(item.encode('utf-8').strip()+\"\\n\")    \n",
    "#os.rename(dir_loc+'/'+file_name,dir_loc+'/'+file_name+'.txt')\n"
   ]
  },
  {
   "cell_type": "code",
   "execution_count": null,
   "metadata": {},
   "outputs": [],
   "source": []
  },
  {
   "cell_type": "code",
   "execution_count": 9,
   "metadata": {},
   "outputs": [
    {
     "data": {
      "text/plain": [
       "'tweets.2010-12-23.gz'"
      ]
     },
     "execution_count": 9,
     "metadata": {},
     "output_type": "execute_result"
    }
   ],
   "source": [
    "file_name"
   ]
  },
  {
   "cell_type": "code",
   "execution_count": 10,
   "metadata": {},
   "outputs": [
    {
     "data": {
      "text/plain": [
       "'/home/sonata/Downloads/Embedding/data/twitter_s3/2010/tweets.2010-12-23.gz'"
      ]
     },
     "execution_count": 10,
     "metadata": {},
     "output_type": "execute_result"
    }
   ],
   "source": [
    "dir_loc+'/'+file_name"
   ]
  },
  {
   "cell_type": "code",
   "execution_count": null,
   "metadata": {},
   "outputs": [],
   "source": []
  }
 ],
 "metadata": {
  "kernelspec": {
   "display_name": "Python 2",
   "language": "python",
   "name": "python2"
  },
  "language_info": {
   "codemirror_mode": {
    "name": "ipython",
    "version": 2
   },
   "file_extension": ".py",
   "mimetype": "text/x-python",
   "name": "python",
   "nbconvert_exporter": "python",
   "pygments_lexer": "ipython2",
   "version": "2.7.15rc1"
  }
 },
 "nbformat": 4,
 "nbformat_minor": 2
}
