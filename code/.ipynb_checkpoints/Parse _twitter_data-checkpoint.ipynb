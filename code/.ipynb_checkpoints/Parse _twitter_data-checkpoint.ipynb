{
 "cells": [
  {
   "cell_type": "code",
   "execution_count": 8,
   "metadata": {},
   "outputs": [],
   "source": [
    "import json\n",
    "import os\n"
   ]
  },
  {
   "cell_type": "code",
   "execution_count": 6,
   "metadata": {},
   "outputs": [],
   "source": [
    "#!year=2008\n",
    "#!mkdir $year\n",
    "! gzip -d /home/sonata/Downloads/tweets.2008-09-10.gz"
   ]
  },
  {
   "cell_type": "code",
   "execution_count": null,
   "metadata": {},
   "outputs": [],
   "source": [
    "contents = []\n",
    "with open(\"~/tweets.2008-09-10\",'r') as f:\n",
    "    for line in f:\n",
    "        contents.append(json.loads(line))\n",
    "with open(\"~/tweets_2008_09_10.txt\",'w') as f:\n",
    "    for item in contents:\n",
    "        if('text' in item.keys()):\n",
    "            f.write(item['text']+\"\\n\")"
   ]
  },
  {
   "cell_type": "code",
   "execution_count": null,
   "metadata": {},
   "outputs": [
    {
     "name": "stdout",
     "output_type": "stream",
     "text": [
      "('tweets.2008-10-27', 634565)\n",
      "('tweets.2008-09-13', 1106073)\n",
      "('tweets.2008-09-16', 1593380)\n",
      "('tweets.2008-12-18', 1912546)\n",
      "('tweets.2008-11-08', 2662530)\n",
      "('tweets.2008-11-05', 3470613)\n",
      "('tweets.2008-10-16', 4230405)\n"
     ]
    }
   ],
   "source": [
    "year = 2008\n",
    "dir_loc = '/home/sonata/Downloads/Embedding/data/twitter_s3/'+str(year)\n",
    "file_list = []\n",
    "contents = []\n",
    "#for file in os.listdir(dir_loc):\n",
    "#    if(file.startswith(\"tweets.\"+str(year))):\n",
    "#        file_list.append(file)\n",
    "for file_name in os.listdir(dir_loc):\n",
    "    with open(dir_loc+'/'+file_name,'r') as f:\n",
    "        for line in f:\n",
    "            contents.append(json.loads(line))\n",
    "    print(file_name,len(contents))\n",
    "    print(len(contents))\n",
    "    with open(\"../data/twitter_s3/tweets_\"+str(year)+\".txt\",'w') as f:\n",
    "        for item in contents:\n",
    "            if('text' in item.keys()):\n",
    "                f.write(item['text']+\"\\n\")           "
   ]
  },
  {
   "cell_type": "code",
   "execution_count": null,
   "metadata": {},
   "outputs": [],
   "source": []
  }
 ],
 "metadata": {
  "kernelspec": {
   "display_name": "Python 2",
   "language": "python",
   "name": "python2"
  },
  "language_info": {
   "codemirror_mode": {
    "name": "ipython",
    "version": 2
   },
   "file_extension": ".py",
   "mimetype": "text/x-python",
   "name": "python",
   "nbconvert_exporter": "python",
   "pygments_lexer": "ipython2",
   "version": "2.7.15rc1"
  }
 },
 "nbformat": 4,
 "nbformat_minor": 2
}
