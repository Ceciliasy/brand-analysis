{
 "cells": [
  {
   "cell_type": "code",
   "execution_count": 6,
   "metadata": {},
   "outputs": [],
   "source": [
    "import os\n",
    "import pandas as pd\n",
    "import re"
   ]
  },
  {
   "cell_type": "code",
   "execution_count": 3,
   "metadata": {},
   "outputs": [],
   "source": [
    "tweet = pd.read_excel('/home/sonata/Downloads/tweets for xiao liu.xlsx')"
   ]
  },
  {
   "cell_type": "code",
   "execution_count": 10,
   "metadata": {},
   "outputs": [],
   "source": [
    "tweet[\"year\"] = tweet[\"Date_Time\"].map(lambda x: x.year)"
   ]
  },
  {
   "cell_type": "code",
   "execution_count": 24,
   "metadata": {},
   "outputs": [],
   "source": [
    "year = 2008\n",
    "def add_content(year):\n",
    "    print(year)\n",
    "    year_content = tweet[tweet[\"year\"] == year][\"Tweet\"].tolist()\n",
    "    print(\"add\",len(year_content))\n",
    "    with open(\"/media/sonata/MyBook/sec_corpus/\"+str(year)[-2:]+\"_corpus.txt\",'a') as f:\n",
    "        for row in year_content:\n",
    "            f.write(str(row).strip()+\"\\n\")"
   ]
  },
  {
   "cell_type": "code",
   "execution_count": 25,
   "metadata": {},
   "outputs": [
    {
     "name": "stdout",
     "output_type": "stream",
     "text": [
      "2008\n",
      "add 631\n"
     ]
    }
   ],
   "source": [
    "add_content(2008)"
   ]
  },
  {
   "cell_type": "code",
   "execution_count": 29,
   "metadata": {},
   "outputs": [
    {
     "name": "stdout",
     "output_type": "stream",
     "text": [
      "2009\n",
      "add 17931\n",
      "2010\n",
      "add 48551\n",
      "2011\n",
      "add 94718\n",
      "2012\n",
      "add 180846\n",
      "2013\n",
      "add 364789\n",
      "2014\n",
      "add 150508\n"
     ]
    }
   ],
   "source": [
    "for year in set(tweet[\"year\"].values)-set([2008]):\n",
    "    add_content(year)"
   ]
  },
  {
   "cell_type": "code",
   "execution_count": null,
   "metadata": {},
   "outputs": [],
   "source": []
  }
 ],
 "metadata": {
  "kernelspec": {
   "display_name": "Python 3",
   "language": "python",
   "name": "python3"
  },
  "language_info": {
   "codemirror_mode": {
    "name": "ipython",
    "version": 3
   },
   "file_extension": ".py",
   "mimetype": "text/x-python",
   "name": "python",
   "nbconvert_exporter": "python",
   "pygments_lexer": "ipython3",
   "version": "3.7.0"
  }
 },
 "nbformat": 4,
 "nbformat_minor": 2
}
