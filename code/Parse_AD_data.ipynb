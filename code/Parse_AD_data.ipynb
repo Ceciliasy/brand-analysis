{
 "cells": [
  {
   "cell_type": "code",
   "execution_count": 3,
   "metadata": {
    "scrolled": true
   },
   "outputs": [],
   "source": [
    "import numpy as np\n",
    "import pandas as pd\n",
    "import json\n",
    "import re\n",
    "import os"
   ]
  },
  {
   "cell_type": "code",
   "execution_count": 4,
   "metadata": {},
   "outputs": [],
   "source": [
    "root_dir = '/home/sonata/Downloads/nielsen_extracts/AdIntel/'"
   ]
  },
  {
   "cell_type": "code",
   "execution_count": 5,
   "metadata": {},
   "outputs": [
    {
     "name": "stdout",
     "output_type": "stream",
     "text": [
      "/home/sonata/Downloads/nielsen_extracts/AdIntel/2010/Occurrences/Magazine.tsv\n"
     ]
    },
    {
     "name": "stderr",
     "output_type": "stream",
     "text": [
      "/home/sonata/anaconda3/lib/python3.7/site-packages/IPython/core/interactiveshell.py:2785: DtypeWarning: Columns (14,16,20) have mixed types. Specify dtype option on import or set low_memory=False.\n",
      "  interactivity=interactivity, compiler=compiler, result=result)\n"
     ]
    },
    {
     "name": "stdout",
     "output_type": "stream",
     "text": [
      "/home/sonata/Downloads/nielsen_extracts/AdIntel/2011/Occurrences/Magazine.tsv\n",
      "/home/sonata/Downloads/nielsen_extracts/AdIntel/2012/Occurrences/Magazine.tsv\n",
      "/home/sonata/Downloads/nielsen_extracts/AdIntel/2013/Occurrences/Magazine.tsv\n",
      "/home/sonata/Downloads/nielsen_extracts/AdIntel/2014/Occurrences/Magazine.tsv\n",
      "/home/sonata/Downloads/nielsen_extracts/AdIntel/2015/Occurrences/Magazine.tsv\n"
     ]
    }
   ],
   "source": [
    "for year in [2010,2011,2012,2013,2014,2015]:\n",
    "#for year in [2010]:\n",
    "    file_name = root_dir+str(year)+'/Occurrences/Magazine.tsv'\n",
    "    print(file_name)\n",
    "    df = pd.read_csv(file_name,delimiter='\\t',encoding='utf-8')\n",
    "    slogan = df[~pd.isnull(df['Slogan '])]['Slogan '].tolist()\n",
    "    with open(\"../data/AD/slogan_\"+str(year)+\".txt\",'w') as f:\n",
    "        for row in slogan:\n",
    "            f.write(row.strip()+\"\\n\")"
   ]
  },
  {
   "cell_type": "code",
   "execution_count": 25,
   "metadata": {},
   "outputs": [],
   "source": [
    "read_file = [\"../data/AD/corpus/slogan_\"+str(year)+\".txt\" for year in [2010,2011,2012,2013,2014,2015]]"
   ]
  },
  {
   "cell_type": "code",
   "execution_count": 26,
   "metadata": {},
   "outputs": [
    {
     "data": {
      "text/plain": [
       "['../data/AD/corpus/slogan_2010.txt',\n",
       " '../data/AD/corpus/slogan_2011.txt',\n",
       " '../data/AD/corpus/slogan_2012.txt',\n",
       " '../data/AD/corpus/slogan_2013.txt',\n",
       " '../data/AD/corpus/slogan_2014.txt',\n",
       " '../data/AD/corpus/slogan_2015.txt']"
      ]
     },
     "execution_count": 26,
     "metadata": {},
     "output_type": "execute_result"
    }
   ],
   "source": [
    "read_file"
   ]
  },
  {
   "cell_type": "code",
   "execution_count": 7,
   "metadata": {},
   "outputs": [],
   "source": [
    "#2016\n",
    "df = pd.read_csv(\"/home/sonata/Downloads/Magazine.tsv\",delimiter='\\t',encoding='utf-8')\n",
    "slogan = df[~pd.isnull(df['Slogan '])]['Slogan '].tolist()\n",
    "with open(\"../data/AD/slogan_2016.txt\",'w') as f:\n",
    "    for row in slogan:\n",
    "         f.write(row.strip()+\"\\n\")"
   ]
  },
  {
   "cell_type": "code",
   "execution_count": null,
   "metadata": {},
   "outputs": [],
   "source": []
  }
 ],
 "metadata": {
  "kernelspec": {
   "display_name": "Python 3",
   "language": "python",
   "name": "python3"
  },
  "language_info": {
   "codemirror_mode": {
    "name": "ipython",
    "version": 3
   },
   "file_extension": ".py",
   "mimetype": "text/x-python",
   "name": "python",
   "nbconvert_exporter": "python",
   "pygments_lexer": "ipython3",
   "version": "3.7.0"
  }
 },
 "nbformat": 4,
 "nbformat_minor": 2
}
