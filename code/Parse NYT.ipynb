{
 "cells": [
  {
   "cell_type": "code",
   "execution_count": 101,
   "metadata": {},
   "outputs": [],
   "source": [
    "import json\n",
    "import os\n",
    "import re"
   ]
  },
  {
   "cell_type": "code",
   "execution_count": 168,
   "metadata": {
    "scrolled": true
   },
   "outputs": [],
   "source": [
    "def parse_year(year):\n",
    "    source_dir = '/home/sonata/Downloads/NYT_05to14/'+str(year)+'/'\n",
    "    if(not os.path.exists(source_dir)):\n",
    "        source_dir = '/home/sonata/Downloads/NYT_71to86/71to86/'+str(year)[2:]+'/'\n",
    "    if(os.path.exists(source_dir)):\n",
    "        source_file = os.listdir(source_dir)\n",
    "        output_file = '/mnt/HDD/NYT/'+str(year)+'/NYT_'+ str(year)+'.txt'\n",
    "        if(os.path.exists(output_file)):\n",
    "            print(str(year)+\" corpus has been parsed\")\n",
    "        else:\n",
    "            print(\"begin reading \",len(source_file),\"files from \",source_dir)\n",
    "            parse_file(source_dir,source_file,output_file)\n",
    "            print(\"finish reading corpus of \"+str(year))\n",
    "    else:\n",
    "        print(\"NO SUCH SOURCE FILE\", source_dir)\n",
    "\n",
    "def parse_file(source_dir,source_file,output_file):\n",
    "    for cfile in source_file:\n",
    "        source_path = os.path.join(source_dir,cfile)\n",
    "        if(os.path.isdir(source_path)):\n",
    "            parse_file(source_path,os.listdir(source_path),output_file)\n",
    "        else:\n",
    "            content = []\n",
    "            try:\n",
    "                with open(source_path,'r') as f:\n",
    "                    for line in f:\n",
    "                        content.append(line)\n",
    "\n",
    "                article = strip_sentence(content[2])+ strip_sentence(content[-1])\n",
    "                article = strip_word(article)\n",
    "                with open(output_file,'a') as fw:\n",
    "                    fw.write(article+\"\\n\")\n",
    "            except:\n",
    "                print(source_path)\n",
    "\n",
    "def strip_sentence(sentence):\n",
    "    # replace delimiter to space\n",
    "    sentence = re.sub(r\"[\\.,?!;:\\\"—()]\",\" \",sentence) \n",
    "    # strips\n",
    "    return sentence.strip(\" \\n\\'\\\"\")\n",
    "def strip_word(sentence):\n",
    "    line = sentence.split(\" \")\n",
    "    #strip number and english puncuation\n",
    "    #line = [word.strip(\"_-&$@!#^?*+~[]{}():.,;/`\\'\\\"=0123456789\\n\") for word in line]\n",
    "    #strip chinese punctuation\n",
    "    #line = [word.strip(punctuation) for word in line]\n",
    "    # strip all symbols that are not english character\n",
    "    line = [re.sub(r\"^[^A-Za-z]+|[^A-Za-z]+$\",\"\",word) for word in line]\n",
    "    line = [word for word in line if len(word) and len(word)<20 and not word.startswith(\"http\")]\n",
    "    #line = [WordNetLemmatizer().lemmatize(word) for word in line]\n",
    "    if(len(line)>2):\n",
    "        line = \" \".join(line)\n",
    "        return line\n",
    "    else:\n",
    "        return \"\""
   ]
  },
  {
   "cell_type": "code",
   "execution_count": 169,
   "metadata": {},
   "outputs": [
    {
     "name": "stdout",
     "output_type": "stream",
     "text": [
      "81\n"
     ]
    }
   ],
   "source": [
    "# check missing year\n",
    "a = os.listdir('/home/sonata/Downloads/NYT_05to14/')\n",
    "for i in range(2005,2015):\n",
    "    if(str(i) not in a):\n",
    "        print(i)\n",
    "b = os.listdir('/home/sonata/Downloads/NYT_71to86/71to86/')\n",
    "for i in range(71,87):\n",
    "    if(str(i) not in b):\n",
    "        print(i)"
   ]
  },
  {
   "cell_type": "code",
   "execution_count": 170,
   "metadata": {
    "scrolled": true
   },
   "outputs": [],
   "source": [
    "# make directory for each year\n",
    "for i in range(2005,2015):\n",
    "    year = str(i)\n",
    "    !mkdir /mnt/HDD/NYT/$year\n",
    "for i in range(71,87):\n",
    "    year = str(19)+str(i)\n",
    "    !mkdir /mnt/HDD/NYT/$year"
   ]
  },
  {
   "cell_type": "code",
   "execution_count": 171,
   "metadata": {
    "scrolled": false
   },
   "outputs": [
    {
     "name": "stdout",
     "output_type": "stream",
     "text": [
      "begin reading  91720 files from  /home/sonata/Downloads/NYT_71to86/71to86/71/\n",
      "finish reading corpus of 1971\n",
      "begin reading  92128 files from  /home/sonata/Downloads/NYT_71to86/71to86/72/\n",
      "finish reading corpus of 1972\n",
      "begin reading  87504 files from  /home/sonata/Downloads/NYT_71to86/71to86/73/\n",
      "finish reading corpus of 1973\n",
      "begin reading  84433 files from  /home/sonata/Downloads/NYT_71to86/71to86/74/\n",
      "finish reading corpus of 1974\n",
      "begin reading  72109 files from  /home/sonata/Downloads/NYT_71to86/71to86/75/\n",
      "finish reading corpus of 1975\n",
      "begin reading  79226 files from  /home/sonata/Downloads/NYT_71to86/71to86/76/\n",
      "finish reading corpus of 1976\n",
      "begin reading  87230 files from  /home/sonata/Downloads/NYT_71to86/71to86/77/\n",
      "finish reading corpus of 1977\n",
      "begin reading  64765 files from  /home/sonata/Downloads/NYT_71to86/71to86/78/\n",
      "finish reading corpus of 1978\n",
      "begin reading  81099 files from  /home/sonata/Downloads/NYT_71to86/71to86/79/\n",
      "finish reading corpus of 1979\n",
      "begin reading  81209 files from  /home/sonata/Downloads/NYT_71to86/71to86/80/\n",
      "finish reading corpus of 1980\n",
      "begin reading  85278 files from  /home/sonata/Downloads/NYT_71to86/71to86/82/\n",
      "finish reading corpus of 1982\n",
      "begin reading  84273 files from  /home/sonata/Downloads/NYT_71to86/71to86/83/\n",
      "finish reading corpus of 1983\n",
      "begin reading  88021 files from  /home/sonata/Downloads/NYT_71to86/71to86/84/\n",
      "finish reading corpus of 1984\n",
      "begin reading  84217 files from  /home/sonata/Downloads/NYT_71to86/71to86/85/\n",
      "finish reading corpus of 1985\n",
      "begin reading  88752 files from  /home/sonata/Downloads/NYT_71to86/71to86/86/\n",
      "finish reading corpus of 1986\n",
      "begin reading  90678 files from  /home/sonata/Downloads/NYT_05to14/2005/\n",
      "finish reading corpus of 2005\n",
      "begin reading  2 files from  /home/sonata/Downloads/NYT_05to14/2006/\n",
      "finish reading corpus of 2006\n",
      "begin reading  2 files from  /home/sonata/Downloads/NYT_05to14/2007/\n",
      "finish reading corpus of 2007\n",
      "begin reading  84095 files from  /home/sonata/Downloads/NYT_05to14/2008/\n",
      "finish reading corpus of 2008\n",
      "begin reading  75001 files from  /home/sonata/Downloads/NYT_05to14/2009/\n",
      "finish reading corpus of 2009\n",
      "begin reading  74412 files from  /home/sonata/Downloads/NYT_05to14/2010/\n",
      "finish reading corpus of 2010\n",
      "begin reading  93757 files from  /home/sonata/Downloads/NYT_05to14/2011/\n",
      "finish reading corpus of 2011\n",
      "begin reading  2 files from  /home/sonata/Downloads/NYT_05to14/2012/\n",
      "finish reading corpus of 2012\n",
      "begin reading  2 files from  /home/sonata/Downloads/NYT_05to14/2013/\n",
      "finish reading corpus of 2013\n",
      "begin reading  12757 files from  /home/sonata/Downloads/NYT_05to14/2014/\n",
      "finish reading corpus of 2014\n"
     ]
    }
   ],
   "source": [
    "# parse process\n",
    "for year in sorted(os.listdir('/mnt/HDD/NYT')):\n",
    "    parse_year(year)"
   ]
  },
  {
   "cell_type": "code",
   "execution_count": 173,
   "metadata": {},
   "outputs": [
    {
     "name": "stdout",
     "output_type": "stream",
     "text": [
      "begin reading  103531 files from  /home/sonata/Downloads/NYT_71to86/71to86/81/\n",
      "finish reading corpus of 1981\n"
     ]
    }
   ],
   "source": [
    "parse_year(1981)"
   ]
  },
  {
   "cell_type": "code",
   "execution_count": null,
   "metadata": {},
   "outputs": [],
   "source": []
  }
 ],
 "metadata": {
  "kernelspec": {
   "display_name": "Python 3",
   "language": "python",
   "name": "python3"
  },
  "language_info": {
   "codemirror_mode": {
    "name": "ipython",
    "version": 3
   },
   "file_extension": ".py",
   "mimetype": "text/x-python",
   "name": "python",
   "nbconvert_exporter": "python",
   "pygments_lexer": "ipython3",
   "version": "3.7.0"
  }
 },
 "nbformat": 4,
 "nbformat_minor": 2
}
