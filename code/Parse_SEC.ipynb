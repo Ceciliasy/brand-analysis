{
 "cells": [
  {
   "cell_type": "code",
   "execution_count": 93,
   "metadata": {},
   "outputs": [],
   "source": [
    "import numpy as np\n",
    "import os\n",
    "import re"
   ]
  },
  {
   "cell_type": "markdown",
   "metadata": {},
   "source": [
    "# parse filename"
   ]
  },
  {
   "cell_type": "code",
   "execution_count": 13,
   "metadata": {},
   "outputs": [],
   "source": [
    "def search_file(root):\n",
    "    for file in os.listdir(root):\n",
    "        complete_path = os.path.join(root,file)\n",
    "        if not os.path.isdir(complete_path):\n",
    "            file_list.append(complete_path)\n",
    "        else:\n",
    "            search_file(complete_path)"
   ]
  },
  {
   "cell_type": "code",
   "execution_count": 21,
   "metadata": {},
   "outputs": [],
   "source": [
    "root = \"/media/sonata/MyBook/SEC-Edgar-Data\"\n",
    "root1 = \"/media/sonata/MyBook/SEC-Edgar-Data-Extra/\"\n",
    "\n",
    "file_list = []\n",
    "search_file(root)\n",
    "search_file(root1)\n",
    "\n",
    "with open('file_name.txt','w') as f:\n",
    "    for item in file_list:\n",
    "        f.write(item+'\\n')"
   ]
  },
  {
   "cell_type": "code",
   "execution_count": 32,
   "metadata": {},
   "outputs": [],
   "source": [
    "#sort_file = sorted(file_list,key = lambda x: x.split(\"-\")[-2])\n",
    "\n",
    "for file in file_list:\n",
    "    year = file.split(\"-\")[-2]\n",
    "    with open(\"file\"+year,'a') as f:\n",
    "        f.write(file+\"\\n\")"
   ]
  },
  {
   "cell_type": "code",
   "execution_count": 109,
   "metadata": {},
   "outputs": [
    {
     "name": "stdout",
     "output_type": "stream",
     "text": [
      "file15\n",
      "file95\n",
      "file04\n",
      "file07\n",
      "file05\n",
      "file18\n",
      "file10\n",
      "file14\n",
      "file03\n",
      "file02\n",
      "file12\n",
      "file98\n",
      "file06\n",
      "file01\n",
      "file96\n",
      "file11\n",
      "file13\n",
      "file94\n",
      "file08\n",
      "file00\n",
      "file17\n",
      "file09\n",
      "file16\n",
      "file99\n",
      "file97\n"
     ]
    }
   ],
   "source": [
    "for year_file in os.listdir(\"file_SEC/\"):\n",
    "    print(year_file)"
   ]
  },
  {
   "cell_type": "code",
   "execution_count": 105,
   "metadata": {},
   "outputs": [],
   "source": [
    "year_file = \"file_SEC/file00\"\n",
    "year_file_list = []\n",
    "with open(year_file,'r') as f:\n",
    "    for line in f:\n",
    "        year_file_list.append(line.strip('\\n'))"
   ]
  },
  {
   "cell_type": "code",
   "execution_count": 106,
   "metadata": {},
   "outputs": [],
   "source": [
    "year = year_file[-2:]\n",
    "for file in year_file_list:\n",
    "    content = []\n",
    "    with open(file,'r') as f:\n",
    "        for line in f:\n",
    "            content.append(line)\n",
    "    with open(\"/media/sonata/MyBook/sec_corpus/\"+year+\"_corpus.txt\",\"a\") as f:\n",
    "        for i in content:\n",
    "            line = i.strip(\" \\n\")\n",
    "            flag = line.startswith(\"<\") or line.endswith(\">\") or line.startswith(\"-\") or line.startswith(\"=\") \n",
    "            if(len(line) != 0 and not flag):\n",
    "                line = re.split(\" |\\t\",line)\n",
    "                line = \" \".join([element for element in line if len(element) != 0])\n",
    "                f.write(line+\" \")\n",
    "        f.write(\"\\n\")       "
   ]
  },
  {
   "cell_type": "code",
   "execution_count": null,
   "metadata": {},
   "outputs": [],
   "source": []
  },
  {
   "cell_type": "code",
   "execution_count": 110,
   "metadata": {},
   "outputs": [],
   "source": [
    "for year_f in os.listdir(\"file_SEC/\"):\n",
    "    if(year_f != \"file00\"):\n",
    "        print(year_f)\n",
    "        year_file = \"file_SEC/\"+year_f\n",
    "        year_file_list = []\n",
    "        with open(year_file,'r') as f:\n",
    "            for line in f:\n",
    "                year_file_list.append(line.strip('\\n'))\n",
    "        year = year_file[-2:]\n",
    "        for file in year_file_list:\n",
    "            content = []\n",
    "            with open(file,'r') as f:\n",
    "                for line in f:\n",
    "                    content.append(line)\n",
    "            with open(\"/media/sonata/MyBook/sec_corpus/\"+year+\"_corpus.txt\",\"a\") as f:\n",
    "                for i in content:\n",
    "                    line = i.strip(\" \\n\")\n",
    "                    flag = line.startswith(\"<\") or line.endswith(\">\") or line.startswith(\"-\") or line.startswith(\"=\") \n",
    "                    if(len(line) != 0 and not flag):\n",
    "                        line = re.split(\" |\\t\",line)\n",
    "                        line = \" \".join([element for element in line if len(element) != 0])\n",
    "                        f.write(line+\" \")\n",
    "                f.write(\"\\n\")       "
   ]
  },
  {
   "cell_type": "code",
   "execution_count": null,
   "metadata": {},
   "outputs": [],
   "source": []
  },
  {
   "cell_type": "code",
   "execution_count": null,
   "metadata": {},
   "outputs": [],
   "source": []
  },
  {
   "cell_type": "markdown",
   "metadata": {},
   "source": [
    "# remove and strip stop numbers,words and symbols"
   ]
  },
  {
   "cell_type": "code",
   "execution_count": 131,
   "metadata": {},
   "outputs": [],
   "source": [
    "raw_file = \"/media/sonata/MyBook/sec_corpus/1994/94_corpus.txt\"\n",
    "new_file = \"/media/sonata/MyBook/sec_corpus/1994/94_corpus_new.txt\"\n",
    "content = []\n",
    "with open(raw_file,'r') as f:\n",
    "    for line in f:\n",
    "        line = line.split(\" \")\n",
    "        line = [word.strip(\"_-&$@!#^?*+~[]{}():.,;`\\'\\\"=0123456789\") for word in line]\n",
    "        line = [word for word in line if len(word) and len(word)<20]\n",
    "        content.append(\" \".join(line))\n",
    "with open(new_file,'w') as f:\n",
    "    for item in content:\n",
    "        f.write(item)"
   ]
  },
  {
   "cell_type": "code",
   "execution_count": 137,
   "metadata": {},
   "outputs": [
    {
     "name": "stdout",
     "output_type": "stream",
     "text": [
      "/media/sonata/MyBook/sec_corpus/2010/10_corpus.txt\n",
      "/media/sonata/MyBook/sec_corpus/2011/11_corpus.txt\n",
      "/media/sonata/MyBook/sec_corpus/2012/12_corpus.txt\n",
      "/media/sonata/MyBook/sec_corpus/2013/13_corpus.txt\n",
      "/media/sonata/MyBook/sec_corpus/2014/14_corpus.txt\n",
      "/media/sonata/MyBook/sec_corpus/2015/15_corpus.txt\n",
      "/media/sonata/MyBook/sec_corpus/2016/16_corpus.txt\n",
      "/media/sonata/MyBook/sec_corpus/2017/17_corpus.txt\n",
      "/media/sonata/MyBook/sec_corpus/2018/18_corpus.txt\n"
     ]
    }
   ],
   "source": [
    "#year = [1995,1996,1997,1998,1999]\n",
    "#year = [2000,2001,2002,2003,2004,2005,2006,2007,2008,2009]\n",
    "year = [2010,2011,2012,2013,2014,2015,2016,2017,2018]\n",
    "for ye in year:\n",
    "    raw_file = \"/media/sonata/MyBook/sec_corpus/\"+str(ye)[-2:]+\"_corpus.txt\"\n",
    "    !mkdir /media/sonata/MyBook/sec_corpus/$ye\n",
    "    new_file = \"/media/sonata/MyBook/sec_corpus/\"+str(ye)+\"/\"+str(ye)[-2:]+\"_corpus.txt\"\n",
    "    print(new_file)\n",
    "    content = []\n",
    "    with open(raw_file,'r') as f:\n",
    "        for line in f:\n",
    "            line = line.split(\" \")\n",
    "            line = [word.strip(\"_-&$@!#^?*+~[]{}():.,;`\\'\\\"=0123456789\") for word in line]\n",
    "            line = [word for word in line if len(word) and len(word)<20]\n",
    "            content.append(\" \".join(line))\n",
    "    with open(new_file,'w') as f:\n",
    "        for item in content:\n",
    "            f.write(item)\n"
   ]
  },
  {
   "cell_type": "code",
   "execution_count": null,
   "metadata": {},
   "outputs": [],
   "source": [
    "    \n"
   ]
  },
  {
   "cell_type": "code",
   "execution_count": null,
   "metadata": {},
   "outputs": [],
   "source": []
  },
  {
   "cell_type": "markdown",
   "metadata": {},
   "source": [
    "# Reparse"
   ]
  },
  {
   "cell_type": "code",
   "execution_count": 1,
   "metadata": {},
   "outputs": [],
   "source": [
    "def parse_year(year):\n",
    "    source_file = '/media/sonata/MyBook/sec_corpus/'+str(year)+'/'+str(year)[2:]+'_corpus.txt'\n",
    "    output_file = '/media/sonata/MyBook/sec_corpus/'+str(year)+'/'+str(year)[2:]+'_corpus_new.txt'\n",
    "    parse_file(source_file,output_file)\n",
    "\n",
    "def parse_file(source_file,output_file):\n",
    "    content = []\n",
    "    with open(source_file,'r') as f:\n",
    "        for line in f:\n",
    "            line = strip_sentence(line)\n",
    "            line = strip_word(line)\n",
    "            content.append(line)\n",
    "    for article in content:\n",
    "        with open(output_file,'a') as fw:\n",
    "            fw.write(article+\"\\n\")\n",
    "\n",
    "def strip_sentence(sentence):\n",
    "    # replace delimiter to space\n",
    "    sentence = re.sub(r\"[\\.,?!;:\\\"—()]\",\" \",sentence) \n",
    "    # strips\n",
    "    return sentence.strip(\" \\n\\'\\\"\")\n",
    "def strip_word(sentence):\n",
    "    line = sentence.split(\" \")\n",
    "    #strip number and english puncuation\n",
    "    #line = [word.strip(\"_-&$@!#^?*+~[]{}():.,;/`\\'\\\"=0123456789\\n\") for word in line]\n",
    "    #strip chinese punctuation\n",
    "    #line = [word.strip(punctuation) for word in line]\n",
    "    # strip all symbols that are not english character\n",
    "    line = [re.sub(r\"^[^A-Za-z]+|[^A-Za-z]+$\",\"\",word) for word in line]\n",
    "    line = [word for word in line if len(word) and len(word)<20 and not word.startswith(\"http\")]\n",
    "    #line = [WordNetLemmatizer().lemmatize(word) for word in line]\n",
    "    if(len(line)>2):\n",
    "        line = \" \".join(line)\n",
    "        return line\n",
    "    else:\n",
    "        return \"\""
   ]
  },
  {
   "cell_type": "code",
   "execution_count": 4,
   "metadata": {},
   "outputs": [],
   "source": [
    "parse_year(1994)"
   ]
  },
  {
   "cell_type": "code",
   "execution_count": 3,
   "metadata": {},
   "outputs": [],
   "source": [
    "import re"
   ]
  },
  {
   "cell_type": "code",
   "execution_count": null,
   "metadata": {},
   "outputs": [],
   "source": []
  }
 ],
 "metadata": {
  "kernelspec": {
   "display_name": "Python 3",
   "language": "python",
   "name": "python3"
  },
  "language_info": {
   "codemirror_mode": {
    "name": "ipython",
    "version": 3
   },
   "file_extension": ".py",
   "mimetype": "text/x-python",
   "name": "python",
   "nbconvert_exporter": "python",
   "pygments_lexer": "ipython3",
   "version": "3.7.0"
  }
 },
 "nbformat": 4,
 "nbformat_minor": 2
}
