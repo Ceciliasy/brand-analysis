{
 "cells": [
  {
   "cell_type": "code",
   "execution_count": 1,
   "metadata": {
    "collapsed": true
   },
   "outputs": [],
   "source": [
    "import gensim\n",
    "import os\n",
    "import re\n",
    "import pickle\n",
    "import numpy as np\n",
    "from gensim.scripts.glove2word2vec import glove2word2vec"
   ]
  },
  {
   "cell_type": "code",
   "execution_count": 5,
   "metadata": {
    "collapsed": true
   },
   "outputs": [],
   "source": [
    "## Input\n",
    "#\n",
    "# ID    dataset        Support_Year\n",
    "# 0     GoogleNews     -\n",
    "# 1     NYT            3yr\n",
    "# 2     Common Crawl   -\n",
    "# 3     Google Books   10yr\n",
    "# 4     Twitter        -\n",
    "data_id = 1\n",
    "word1 = 'china'\n",
    "word2 = 'canada'\n",
    "year = 1987"
   ]
  },
  {
   "cell_type": "code",
   "execution_count": 41,
   "metadata": {
    "collapsed": true
   },
   "outputs": [],
   "source": [
    "def choose_data(data_id,year):\n",
    "    dataset = ['GoogleNews','NYTw2v','CommonCrawlw2v','COHAw2v','Twitterw2v']\n",
    "    dir_loc = \"../data/Dataset/\"+dataset[data_id]+\"/\"\n",
    "    subdir = os.listdir(dir_loc)\n",
    "    if(\".DS_Store\" in subdir):\n",
    "        subdir.remove(\".DS_Store\") \n",
    "    if(len(subdir)==1):\n",
    "        print(dataset[data_id],\"does not support year search\")\n",
    "        file_name = dir_loc+subdir[0]\n",
    "    else:\n",
    "        print(dataset[data_id],\"support year search\")\n",
    "        file_name = None\n",
    "        for file in subdir:\n",
    "            m = re.search('\\d{4}.\\d{4}', file)\n",
    "            if(m):\n",
    "                year_range = m.group(0)\n",
    "                if(year and year >= int(year_range[:4]) and year <= int(year_range[-4:])):\n",
    "                    file_name = dir_loc+file\n",
    "                    break\n",
    "    if(file_name):     \n",
    "        try:\n",
    "            w2v=gensim.models.KeyedVectors.load_word2vec_format(file_name,binary=False,unicode_errors='ignore')\n",
    "        except:\n",
    "            w2v=gensim.models.KeyedVectors.load_word2vec_format(file_name,binary=True,unicode_errors='ignore')\n",
    "        return w2v\n",
    "    else:\n",
    "        print(\"can not find corresponding dataset, nothing returned\")\n",
    "        return None\n",
    "\n",
    "def similarity(word1,word2,w2v):\n",
    "    try:\n",
    "        print(word1,word2,\":\",w2v.similarity(word1,word2))\n",
    "    except Exception as e:\n",
    "        print(str(e))"
   ]
  },
  {
   "cell_type": "code",
   "execution_count": 42,
   "metadata": {},
   "outputs": [
    {
     "name": "stdout",
     "output_type": "stream",
     "text": [
      "GoogleNews does not support year search\n"
     ]
    }
   ],
   "source": [
    "# Google News\n",
    "w2v_googlenews = choose_data(0,1987)"
   ]
  },
  {
   "cell_type": "code",
   "execution_count": 43,
   "metadata": {},
   "outputs": [
    {
     "name": "stdout",
     "output_type": "stream",
     "text": [
      "china canada : 0.28617182\n"
     ]
    },
    {
     "name": "stderr",
     "output_type": "stream",
     "text": [
      "/Users/sunny/anaconda/lib/python3.6/site-packages/gensim/matutils.py:737: FutureWarning: Conversion of the second argument of issubdtype from `int` to `np.signedinteger` is deprecated. In future, it will be treated as `np.int64 == np.dtype(int).type`.\n",
      "  if np.issubdtype(vec.dtype, np.int):\n"
     ]
    }
   ],
   "source": [
    "# word2vec distinguish uppercase and lowercase\n",
    "similarity(word1,word2,w2v_googlenews)"
   ]
  },
  {
   "cell_type": "code",
   "execution_count": null,
   "metadata": {
    "collapsed": true
   },
   "outputs": [],
   "source": []
  },
  {
   "cell_type": "code",
   "execution_count": 44,
   "metadata": {},
   "outputs": [
    {
     "name": "stdout",
     "output_type": "stream",
     "text": [
      "NYTw2v support year search\n"
     ]
    }
   ],
   "source": [
    "# NYT\n",
    "# glove only allow lowercase\n",
    "w2v_nyt = choose_data(1,1991)"
   ]
  },
  {
   "cell_type": "code",
   "execution_count": 45,
   "metadata": {},
   "outputs": [
    {
     "name": "stdout",
     "output_type": "stream",
     "text": [
      "china canada : 0.2935132\n"
     ]
    },
    {
     "name": "stderr",
     "output_type": "stream",
     "text": [
      "/Users/sunny/anaconda/lib/python3.6/site-packages/gensim/matutils.py:737: FutureWarning: Conversion of the second argument of issubdtype from `int` to `np.signedinteger` is deprecated. In future, it will be treated as `np.int64 == np.dtype(int).type`.\n",
      "  if np.issubdtype(vec.dtype, np.int):\n"
     ]
    }
   ],
   "source": [
    "similarity('china','canada',w2v_nyt)"
   ]
  },
  {
   "cell_type": "code",
   "execution_count": 18,
   "metadata": {},
   "outputs": [
    {
     "name": "stdout",
     "output_type": "stream",
     "text": [
      "CommonCrawlw2v does not support year search\n",
      "../data/Dataset/CommonCrawlw2v/glove.42B.300d.txt\n",
      "\"word 'china' not in vocabulary\"\n"
     ]
    }
   ],
   "source": [
    "# Common Crawl\n",
    "w2v_commoncrawl = choose_data(2,1987)\n",
    "similarity('china','canada',w2v_commoncrawl)"
   ]
  },
  {
   "cell_type": "code",
   "execution_count": null,
   "metadata": {
    "collapsed": true
   },
   "outputs": [],
   "source": []
  },
  {
   "cell_type": "code",
   "execution_count": 239,
   "metadata": {},
   "outputs": [
    {
     "name": "stdout",
     "output_type": "stream",
     "text": [
      "COHAw2v support year search\n",
      "china canada : 0.36149564\n"
     ]
    },
    {
     "name": "stderr",
     "output_type": "stream",
     "text": [
      "/Users/sunny/anaconda/lib/python3.6/site-packages/gensim/matutils.py:737: FutureWarning: Conversion of the second argument of issubdtype from `int` to `np.signedinteger` is deprecated. In future, it will be treated as `np.int64 == np.dtype(int).type`.\n",
      "  if np.issubdtype(vec.dtype, np.int):\n"
     ]
    }
   ],
   "source": [
    "# COHA\n",
    "w2v_coha = choose_data(3,1987)\n",
    "similarity('china','canada',w2v_coha)"
   ]
  },
  {
   "cell_type": "code",
   "execution_count": null,
   "metadata": {
    "collapsed": true
   },
   "outputs": [],
   "source": []
  },
  {
   "cell_type": "code",
   "execution_count": 15,
   "metadata": {},
   "outputs": [
    {
     "name": "stdout",
     "output_type": "stream",
     "text": [
      "Twitterw2v does not support year search\n",
      "china canada : 0.52033085\n"
     ]
    },
    {
     "name": "stderr",
     "output_type": "stream",
     "text": [
      "/Users/sunny/anaconda/lib/python3.6/site-packages/gensim/matutils.py:737: FutureWarning: Conversion of the second argument of issubdtype from `int` to `np.signedinteger` is deprecated. In future, it will be treated as `np.int64 == np.dtype(int).type`.\n",
      "  if np.issubdtype(vec.dtype, np.int):\n"
     ]
    }
   ],
   "source": [
    "# Twitter\n",
    "w2v_twitter = choose_data(4,1987)\n",
    "similarity('china','canada',w2v_twitter)"
   ]
  },
  {
   "cell_type": "markdown",
   "metadata": {},
   "source": [
    "# Transfer from glove to w2v"
   ]
  },
  {
   "cell_type": "code",
   "execution_count": 250,
   "metadata": {
    "collapsed": true
   },
   "outputs": [],
   "source": [
    "# transfer CommanCrawl to word2vec format\n",
    "input_dir = '../data/Dataset/CommonCrawl/'\n",
    "output_dir = '../data/Dataset/CommonCrawlw2v/'\n",
    "for file in os.listdir(input_dir):\n",
    "    glove2word2vec(input_dir+file, output_dir+file)"
   ]
  },
  {
   "cell_type": "code",
   "execution_count": 8,
   "metadata": {
    "collapsed": true
   },
   "outputs": [],
   "source": [
    "# transfer NYT to word2vec format\n",
    "input_dir = '../data/Dataset/NYT/'\n",
    "output_dir = '../data/Dataset/NYTw2v/'\n",
    "for file in os.listdir(input_dir):\n",
    "    glove2word2vec(input_dir+file, output_dir+file)"
   ]
  },
  {
   "cell_type": "code",
   "execution_count": 12,
   "metadata": {
    "collapsed": true
   },
   "outputs": [],
   "source": [
    "# transfer Twitter to word2vec format\n",
    "input_dir = '../data/Dataset/Twitter/'\n",
    "output_dir = '../data/Dataset/Twitterw2v/'\n",
    "for file in os.listdir(input_dir):\n",
    "    glove2word2vec(input_dir+file, output_dir+file)"
   ]
  },
  {
   "cell_type": "markdown",
   "metadata": {},
   "source": [
    "# Transfer from Dynamic to w2v"
   ]
  },
  {
   "cell_type": "code",
   "execution_count": 231,
   "metadata": {
    "collapsed": true
   },
   "outputs": [],
   "source": [
    "# transfer COHA to word2vec format and rename as year-year\n",
    "for i in range(1810,2010,10):\n",
    "    dir_loc = '../data/Dataset/COHA/sgns/'\n",
    "    pkl_name = str(i)+'-vocab.pkl'\n",
    "    npy_name = str(i)+'-w.npy'\n",
    "    output_loc = '../data/Dataset/COHAw2v/'+str(i)+'-'+str(i+9)\n",
    "    with open(dir_loc+pkl_name, 'rb') as f:\n",
    "        vocab = pickle.load(f)\n",
    "    vector = np.load(dir_loc+npy_name)\n",
    "    data =np.concatenate((np.array([vocab]).T,vector),axis = 1)\n",
    "    with open(output_loc,'w') as f:\n",
    "        for j in range(len(data)):\n",
    "            if(j == 0):\n",
    "                f.write(str(len(vocab))+\" \"+str(len(vector[0]))+'\\n')\n",
    "            f.write(\" \".join(list(data[j]))+'\\n')"
   ]
  },
  {
   "cell_type": "code",
   "execution_count": null,
   "metadata": {
    "collapsed": true
   },
   "outputs": [],
   "source": []
  },
  {
   "cell_type": "markdown",
   "metadata": {},
   "source": [
    "# Questions"
   ]
  },
  {
   "cell_type": "markdown",
   "metadata": {},
   "source": [
    "1. years in Twitter overlap\n",
    "2. Google News distinguish Uppercase and Lowercase"
   ]
  }
 ],
 "metadata": {
  "kernelspec": {
   "display_name": "Python 3",
   "language": "python",
   "name": "python3"
  },
  "language_info": {
   "codemirror_mode": {
    "name": "ipython",
    "version": 3
   },
   "file_extension": ".py",
   "mimetype": "text/x-python",
   "name": "python",
   "nbconvert_exporter": "python",
   "pygments_lexer": "ipython3",
   "version": "3.6.1"
  }
 },
 "nbformat": 4,
 "nbformat_minor": 2
}
